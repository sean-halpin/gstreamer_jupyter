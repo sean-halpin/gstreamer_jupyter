{
 "cells": [
  {
   "cell_type": "code",
   "execution_count": null,
   "metadata": {},
   "outputs": [],
   "source": [
    "#include <iostream>\n",
    "std::cout << \"Hello Jupyter Xeus c++ Kernel\" << std::endl;"
   ]
  },
  {
   "cell_type": "markdown",
   "metadata": {},
   "source": [
    "## Essential Gstreamer Tools\n",
    "- gst-launch-1.0\n",
    "- gst-inspect-1.0\n"
   ]
  },
  {
   "cell_type": "code",
   "execution_count": null,
   "metadata": {},
   "outputs": [],
   "source": [
    "!gst-launch-1.0 --help"
   ]
  },
  {
   "cell_type": "markdown",
   "metadata": {},
   "source": [
    "### Prototype a pipeline from command line\n",
    "- A pipeline consists of plugins/elements linked together\n",
    "- gst-launch-1.0 is a great tool to debug pipelines and prototype them from command line "
   ]
  },
  {
   "cell_type": "code",
   "execution_count": null,
   "metadata": {},
   "outputs": [],
   "source": [
    "!gst-launch-1.0 videotestsrc num-buffers=10 ! fakesink"
   ]
  },
  {
   "cell_type": "markdown",
   "metadata": {},
   "source": [
    "### Elements\n",
    "There are 3 categories of element/plugin\n",
    "- source\n",
    " - a producer\n",
    " - has only src pads\n",
    "- filter\n",
    " - has src and sink pads\n",
    "- sink\n",
    " - has only sink pads\n",
    "\n",
    "![Elements](https://gstreamer.freedesktop.org/documentation/application-development/basics/images/linked-elements.png)"
   ]
  },
  {
   "cell_type": "markdown",
   "metadata": {},
   "source": [
    "### How do plugins/elements speak to one another ?\n",
    "- must be added to the same `pipeline`\n",
    "- must be `linked` in sensible order\n",
    "- communication between elements is done via src and sink `pads`\n",
    " - each pair of src/sink pads communicating must be capable of handling the buffer"
   ]
  },
  {
   "cell_type": "markdown",
   "metadata": {},
   "source": [
    "### How do we find out what a plugin is capable of ?\n",
    "Use `gst-inspect-1.0` to find out about a plugin.  \n",
    "The most useful things we couldlook for are;\n",
    "- Description\n",
    "- Hierarchy\n",
    "- Pad Templates\n",
    " - what src/sink pads are available?\n",
    " - what are the capabilities(caps) of those pads?\n",
    " - what are the configurable properties of the plugin?\n",
    " - what callbacks are available?\n",
    "  - what are the callback signatures?"
   ]
  },
  {
   "cell_type": "code",
   "execution_count": null,
   "metadata": {},
   "outputs": [],
   "source": [
    "!gst-inspect-1.0 videotestsrc"
   ]
  },
  {
   "cell_type": "markdown",
   "metadata": {},
   "source": [
    "### Searching for compatible plugins\n",
    "Run the command below replacing the grep `SEARCH_PATTERN` with something interesting\n",
    "- video/x-raw\n",
    "- video/x-h264\n",
    "- video/mpegts\n",
    "- application/x-rtp\n",
    "- rtsp"
   ]
  },
  {
   "cell_type": "code",
   "execution_count": null,
   "metadata": {},
   "outputs": [],
   "source": [
    "!gst-inspect-1.0 -a 2>&1 | grep -s application/x-rtp | awk '{print $1}' | sort | uniq\n"
   ]
  }
 ],
 "metadata": {
  "kernelspec": {
   "display_name": "C++14",
   "language": "C++14",
   "name": "xcpp14"
  },
  "language_info": {
   "codemirror_mode": "text/x-c++src",
   "file_extension": ".cpp",
   "mimetype": "text/x-c++src",
   "name": "c++",
   "version": "14"
  }
 },
 "nbformat": 4,
 "nbformat_minor": 4
}
